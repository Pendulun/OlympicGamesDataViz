{
 "cells": [
  {
   "cell_type": "code",
   "execution_count": 99,
   "metadata": {},
   "outputs": [],
   "source": [
    "import pandas as pd\n",
    "import plotly.express as px\n",
    "import plotly.graph_objs as go\n",
    "import matplotlib.pyplot as plt\n",
    "import numpy as np\n",
    "import seaborn as sns # improves plot aesthetics\n",
    "import math"
   ]
  },
  {
   "cell_type": "code",
   "execution_count": null,
   "metadata": {},
   "outputs": [],
   "source": [
    "athletesDf = pd.read_csv('../originalDataSet/athlete_events.csv', encoding=\"ISO-8859-1\") # Dataset original\n",
    "goldMedalAthletes = athletesDf[athletesDf[\"Medal\"].isin([\"Gold\"])]\n",
    "goldMedalAthletes = goldMedalAthletes[goldMedalAthletes[\"Event\"].isin([\"Athletics Men's 4 x 100 metres Relay\"])]\n",
    "\n",
    "# Pegando medias de todos campeoes\n",
    "allWeights = goldMedalAthletes[\"Weight\"].mean()\n",
    "allHeights = goldMedalAthletes[\"Height\"].mean()\n",
    "allAges = goldMedalAthletes[\"Age\"].mean()\n",
    "\n",
    "# Pegando o melhor atleta\n",
    "bestAthlete = goldMedalAthletes[\"Name\"].value_counts().idxmax()\n",
    "#bestAthlete = goldMedalAthletes['Name'].mode().item()\n",
    "bestAthleteWeight = goldMedalAthletes[goldMedalAthletes[\"Name\"].isin([bestAthlete])][\"Weight\"].iloc[0]\n",
    "bestAthleteHeight = goldMedalAthletes[goldMedalAthletes[\"Name\"].isin([bestAthlete])][\"Height\"].iloc[0]\n",
    "bestAthleteAge = goldMedalAthletes[goldMedalAthletes[\"Name\"].isin([bestAthlete])][\"Age\"].mean()\n",
    "print(bestAthleteWeight,bestAthleteHeight,bestAthleteAge)\n",
    "\n",
    "categories = ['Idade','Altura','Peso','Idade',]\n",
    "\n",
    "fig = go.Figure()\n",
    "\n",
    "fig.add_trace(go.Scatterpolar(\n",
    "      r=[round(bestAthleteAge,2), round(bestAthleteHeight,2), round(bestAthleteWeight,2),round(bestAthleteAge,2)],\n",
    "      theta=categories,\n",
    "      #fill='toself',\n",
    "      text = [round(bestAthleteAge,2), round(bestAthleteHeight,2), round(bestAthleteWeight,2)],\n",
    "      hoverinfo = \"r+theta\",\n",
    "      mode = \"lines+markers+text\",\n",
    "      textfont=dict(\n",
    "        family=\"Balto, sans-serif\",\n",
    "        size=13,\n",
    "        color=\"RoyalBlue\"\n",
    "      ),\n",
    "      textposition= [\"top right\", \"top right\", \"bottom right\"],\n",
    "      name='Melhor Atleta'\n",
    "))\n",
    "fig.add_trace(go.Scatterpolar(\n",
    "      r=[round(allAges,2),round(allHeights,2),round(allWeights,2),round(allAges,2)],\n",
    "      theta=categories,\n",
    "      #fill='toself',\n",
    "      hoverinfo = \"r+theta\",\n",
    "      text = [round(allAges,2),round(allHeights,2),round(allWeights,2)],\n",
    "      mode = \"lines+markers+text\",\n",
    "      textposition= [\"bottom right\", \"top left\", \"bottom left\"],\n",
    "      textfont=dict(\n",
    "        family=\"Balto, sans-serif\",\n",
    "        size=13,\n",
    "        color=\"IndianRed\"\n",
    "      ),\n",
    "      name='Média de medalhistas de ouro'\n",
    "))\n",
    "\n",
    "fig.add_annotation(text=\"Melhor atleta: \" + bestAthlete,\n",
    "                  xref=\"paper\", yref=\"paper\",\n",
    "                  x=0.5, y=1.2, showarrow=False)\n",
    "\n",
    "fig.update_layout(\n",
    "  polar=dict(\n",
    "    radialaxis=dict(\n",
    "      angle = -45,\n",
    "      tickangle = 0,\n",
    "      visible=True,\n",
    "      range=[0, 250],\n",
    "      tickfont = dict(size = 10),\n",
    "      )\n",
    "    ),\n",
    "  showlegend=True\n",
    ")\n",
    "#fig.update_polars(angularaxis_tickfont_size=1)\n",
    "fig.show()"
   ]
  },
  {
   "cell_type": "code",
   "execution_count": 100,
   "metadata": {},
   "outputs": [
    {
     "data": {
      "application/vnd.plotly.v1+json": {
       "config": {
        "plotlyServerURL": "https://plot.ly"
       },
       "data": [
        {
         "hoverinfo": "r+theta",
         "mode": "lines+markers+text",
         "name": "Melhor Atleta",
         "r": [
          22,
          172,
          60,
          22
         ],
         "text": [
          "22.0",
          "178.0",
          "68.0"
         ],
         "textfont": {
          "color": "RoyalBlue",
          "family": "Balto, sans-serif",
          "size": 13
         },
         "textposition": [
          "top right",
          "top right",
          "bottom right"
         ],
         "theta": [
          "Idade",
          "Altura",
          "Peso",
          "Idade"
         ],
         "type": "scatterpolar"
        },
        {
         "hoverinfo": "r+theta",
         "mode": "lines+markers+text",
         "name": "Média de medalhistas de ouro",
         "r": [
          23.64,
          179.84,
          74.89,
          23.64
         ],
         "text": [
          "23.64",
          "179.84",
          "74.89"
         ],
         "textfont": {
          "color": "IndianRed",
          "family": "Balto, sans-serif",
          "size": 13
         },
         "textposition": [
          "bottom right",
          "top left",
          "bottom left"
         ],
         "theta": [
          "Idade",
          "Altura",
          "Peso",
          "Idade"
         ],
         "type": "scatterpolar"
        }
       ],
       "layout": {
        "annotations": [
         {
          "showarrow": false,
          "text": "Melhor atleta: Frank Clifford Wykoff",
          "x": 0.5,
          "xref": "paper",
          "y": 1.2,
          "yref": "paper"
         }
        ],
        "polar": {
         "radialaxis": {
          "angle": -45,
          "range": [
           0,
           250
          ],
          "tickangle": 0,
          "tickfont": {
           "size": 10
          },
          "visible": true
         }
        },
        "showlegend": true,
        "template": {
         "data": {
          "bar": [
           {
            "error_x": {
             "color": "#2a3f5f"
            },
            "error_y": {
             "color": "#2a3f5f"
            },
            "marker": {
             "line": {
              "color": "#E5ECF6",
              "width": 0.5
             },
             "pattern": {
              "fillmode": "overlay",
              "size": 10,
              "solidity": 0.2
             }
            },
            "type": "bar"
           }
          ],
          "barpolar": [
           {
            "marker": {
             "line": {
              "color": "#E5ECF6",
              "width": 0.5
             },
             "pattern": {
              "fillmode": "overlay",
              "size": 10,
              "solidity": 0.2
             }
            },
            "type": "barpolar"
           }
          ],
          "carpet": [
           {
            "aaxis": {
             "endlinecolor": "#2a3f5f",
             "gridcolor": "white",
             "linecolor": "white",
             "minorgridcolor": "white",
             "startlinecolor": "#2a3f5f"
            },
            "baxis": {
             "endlinecolor": "#2a3f5f",
             "gridcolor": "white",
             "linecolor": "white",
             "minorgridcolor": "white",
             "startlinecolor": "#2a3f5f"
            },
            "type": "carpet"
           }
          ],
          "choropleth": [
           {
            "colorbar": {
             "outlinewidth": 0,
             "ticks": ""
            },
            "type": "choropleth"
           }
          ],
          "contour": [
           {
            "colorbar": {
             "outlinewidth": 0,
             "ticks": ""
            },
            "colorscale": [
             [
              0,
              "#0d0887"
             ],
             [
              0.1111111111111111,
              "#46039f"
             ],
             [
              0.2222222222222222,
              "#7201a8"
             ],
             [
              0.3333333333333333,
              "#9c179e"
             ],
             [
              0.4444444444444444,
              "#bd3786"
             ],
             [
              0.5555555555555556,
              "#d8576b"
             ],
             [
              0.6666666666666666,
              "#ed7953"
             ],
             [
              0.7777777777777778,
              "#fb9f3a"
             ],
             [
              0.8888888888888888,
              "#fdca26"
             ],
             [
              1,
              "#f0f921"
             ]
            ],
            "type": "contour"
           }
          ],
          "contourcarpet": [
           {
            "colorbar": {
             "outlinewidth": 0,
             "ticks": ""
            },
            "type": "contourcarpet"
           }
          ],
          "heatmap": [
           {
            "colorbar": {
             "outlinewidth": 0,
             "ticks": ""
            },
            "colorscale": [
             [
              0,
              "#0d0887"
             ],
             [
              0.1111111111111111,
              "#46039f"
             ],
             [
              0.2222222222222222,
              "#7201a8"
             ],
             [
              0.3333333333333333,
              "#9c179e"
             ],
             [
              0.4444444444444444,
              "#bd3786"
             ],
             [
              0.5555555555555556,
              "#d8576b"
             ],
             [
              0.6666666666666666,
              "#ed7953"
             ],
             [
              0.7777777777777778,
              "#fb9f3a"
             ],
             [
              0.8888888888888888,
              "#fdca26"
             ],
             [
              1,
              "#f0f921"
             ]
            ],
            "type": "heatmap"
           }
          ],
          "heatmapgl": [
           {
            "colorbar": {
             "outlinewidth": 0,
             "ticks": ""
            },
            "colorscale": [
             [
              0,
              "#0d0887"
             ],
             [
              0.1111111111111111,
              "#46039f"
             ],
             [
              0.2222222222222222,
              "#7201a8"
             ],
             [
              0.3333333333333333,
              "#9c179e"
             ],
             [
              0.4444444444444444,
              "#bd3786"
             ],
             [
              0.5555555555555556,
              "#d8576b"
             ],
             [
              0.6666666666666666,
              "#ed7953"
             ],
             [
              0.7777777777777778,
              "#fb9f3a"
             ],
             [
              0.8888888888888888,
              "#fdca26"
             ],
             [
              1,
              "#f0f921"
             ]
            ],
            "type": "heatmapgl"
           }
          ],
          "histogram": [
           {
            "marker": {
             "pattern": {
              "fillmode": "overlay",
              "size": 10,
              "solidity": 0.2
             }
            },
            "type": "histogram"
           }
          ],
          "histogram2d": [
           {
            "colorbar": {
             "outlinewidth": 0,
             "ticks": ""
            },
            "colorscale": [
             [
              0,
              "#0d0887"
             ],
             [
              0.1111111111111111,
              "#46039f"
             ],
             [
              0.2222222222222222,
              "#7201a8"
             ],
             [
              0.3333333333333333,
              "#9c179e"
             ],
             [
              0.4444444444444444,
              "#bd3786"
             ],
             [
              0.5555555555555556,
              "#d8576b"
             ],
             [
              0.6666666666666666,
              "#ed7953"
             ],
             [
              0.7777777777777778,
              "#fb9f3a"
             ],
             [
              0.8888888888888888,
              "#fdca26"
             ],
             [
              1,
              "#f0f921"
             ]
            ],
            "type": "histogram2d"
           }
          ],
          "histogram2dcontour": [
           {
            "colorbar": {
             "outlinewidth": 0,
             "ticks": ""
            },
            "colorscale": [
             [
              0,
              "#0d0887"
             ],
             [
              0.1111111111111111,
              "#46039f"
             ],
             [
              0.2222222222222222,
              "#7201a8"
             ],
             [
              0.3333333333333333,
              "#9c179e"
             ],
             [
              0.4444444444444444,
              "#bd3786"
             ],
             [
              0.5555555555555556,
              "#d8576b"
             ],
             [
              0.6666666666666666,
              "#ed7953"
             ],
             [
              0.7777777777777778,
              "#fb9f3a"
             ],
             [
              0.8888888888888888,
              "#fdca26"
             ],
             [
              1,
              "#f0f921"
             ]
            ],
            "type": "histogram2dcontour"
           }
          ],
          "mesh3d": [
           {
            "colorbar": {
             "outlinewidth": 0,
             "ticks": ""
            },
            "type": "mesh3d"
           }
          ],
          "parcoords": [
           {
            "line": {
             "colorbar": {
              "outlinewidth": 0,
              "ticks": ""
             }
            },
            "type": "parcoords"
           }
          ],
          "pie": [
           {
            "automargin": true,
            "type": "pie"
           }
          ],
          "scatter": [
           {
            "fillpattern": {
             "fillmode": "overlay",
             "size": 10,
             "solidity": 0.2
            },
            "type": "scatter"
           }
          ],
          "scatter3d": [
           {
            "line": {
             "colorbar": {
              "outlinewidth": 0,
              "ticks": ""
             }
            },
            "marker": {
             "colorbar": {
              "outlinewidth": 0,
              "ticks": ""
             }
            },
            "type": "scatter3d"
           }
          ],
          "scattercarpet": [
           {
            "marker": {
             "colorbar": {
              "outlinewidth": 0,
              "ticks": ""
             }
            },
            "type": "scattercarpet"
           }
          ],
          "scattergeo": [
           {
            "marker": {
             "colorbar": {
              "outlinewidth": 0,
              "ticks": ""
             }
            },
            "type": "scattergeo"
           }
          ],
          "scattergl": [
           {
            "marker": {
             "colorbar": {
              "outlinewidth": 0,
              "ticks": ""
             }
            },
            "type": "scattergl"
           }
          ],
          "scattermapbox": [
           {
            "marker": {
             "colorbar": {
              "outlinewidth": 0,
              "ticks": ""
             }
            },
            "type": "scattermapbox"
           }
          ],
          "scatterpolar": [
           {
            "marker": {
             "colorbar": {
              "outlinewidth": 0,
              "ticks": ""
             }
            },
            "type": "scatterpolar"
           }
          ],
          "scatterpolargl": [
           {
            "marker": {
             "colorbar": {
              "outlinewidth": 0,
              "ticks": ""
             }
            },
            "type": "scatterpolargl"
           }
          ],
          "scatterternary": [
           {
            "marker": {
             "colorbar": {
              "outlinewidth": 0,
              "ticks": ""
             }
            },
            "type": "scatterternary"
           }
          ],
          "surface": [
           {
            "colorbar": {
             "outlinewidth": 0,
             "ticks": ""
            },
            "colorscale": [
             [
              0,
              "#0d0887"
             ],
             [
              0.1111111111111111,
              "#46039f"
             ],
             [
              0.2222222222222222,
              "#7201a8"
             ],
             [
              0.3333333333333333,
              "#9c179e"
             ],
             [
              0.4444444444444444,
              "#bd3786"
             ],
             [
              0.5555555555555556,
              "#d8576b"
             ],
             [
              0.6666666666666666,
              "#ed7953"
             ],
             [
              0.7777777777777778,
              "#fb9f3a"
             ],
             [
              0.8888888888888888,
              "#fdca26"
             ],
             [
              1,
              "#f0f921"
             ]
            ],
            "type": "surface"
           }
          ],
          "table": [
           {
            "cells": {
             "fill": {
              "color": "#EBF0F8"
             },
             "line": {
              "color": "white"
             }
            },
            "header": {
             "fill": {
              "color": "#C8D4E3"
             },
             "line": {
              "color": "white"
             }
            },
            "type": "table"
           }
          ]
         },
         "layout": {
          "annotationdefaults": {
           "arrowcolor": "#2a3f5f",
           "arrowhead": 0,
           "arrowwidth": 1
          },
          "autotypenumbers": "strict",
          "coloraxis": {
           "colorbar": {
            "outlinewidth": 0,
            "ticks": ""
           }
          },
          "colorscale": {
           "diverging": [
            [
             0,
             "#8e0152"
            ],
            [
             0.1,
             "#c51b7d"
            ],
            [
             0.2,
             "#de77ae"
            ],
            [
             0.3,
             "#f1b6da"
            ],
            [
             0.4,
             "#fde0ef"
            ],
            [
             0.5,
             "#f7f7f7"
            ],
            [
             0.6,
             "#e6f5d0"
            ],
            [
             0.7,
             "#b8e186"
            ],
            [
             0.8,
             "#7fbc41"
            ],
            [
             0.9,
             "#4d9221"
            ],
            [
             1,
             "#276419"
            ]
           ],
           "sequential": [
            [
             0,
             "#0d0887"
            ],
            [
             0.1111111111111111,
             "#46039f"
            ],
            [
             0.2222222222222222,
             "#7201a8"
            ],
            [
             0.3333333333333333,
             "#9c179e"
            ],
            [
             0.4444444444444444,
             "#bd3786"
            ],
            [
             0.5555555555555556,
             "#d8576b"
            ],
            [
             0.6666666666666666,
             "#ed7953"
            ],
            [
             0.7777777777777778,
             "#fb9f3a"
            ],
            [
             0.8888888888888888,
             "#fdca26"
            ],
            [
             1,
             "#f0f921"
            ]
           ],
           "sequentialminus": [
            [
             0,
             "#0d0887"
            ],
            [
             0.1111111111111111,
             "#46039f"
            ],
            [
             0.2222222222222222,
             "#7201a8"
            ],
            [
             0.3333333333333333,
             "#9c179e"
            ],
            [
             0.4444444444444444,
             "#bd3786"
            ],
            [
             0.5555555555555556,
             "#d8576b"
            ],
            [
             0.6666666666666666,
             "#ed7953"
            ],
            [
             0.7777777777777778,
             "#fb9f3a"
            ],
            [
             0.8888888888888888,
             "#fdca26"
            ],
            [
             1,
             "#f0f921"
            ]
           ]
          },
          "colorway": [
           "#636efa",
           "#EF553B",
           "#00cc96",
           "#ab63fa",
           "#FFA15A",
           "#19d3f3",
           "#FF6692",
           "#B6E880",
           "#FF97FF",
           "#FECB52"
          ],
          "font": {
           "color": "#2a3f5f"
          },
          "geo": {
           "bgcolor": "white",
           "lakecolor": "white",
           "landcolor": "#E5ECF6",
           "showlakes": true,
           "showland": true,
           "subunitcolor": "white"
          },
          "hoverlabel": {
           "align": "left"
          },
          "hovermode": "closest",
          "mapbox": {
           "style": "light"
          },
          "paper_bgcolor": "white",
          "plot_bgcolor": "#E5ECF6",
          "polar": {
           "angularaxis": {
            "gridcolor": "white",
            "linecolor": "white",
            "ticks": ""
           },
           "bgcolor": "#E5ECF6",
           "radialaxis": {
            "gridcolor": "white",
            "linecolor": "white",
            "ticks": ""
           }
          },
          "scene": {
           "xaxis": {
            "backgroundcolor": "#E5ECF6",
            "gridcolor": "white",
            "gridwidth": 2,
            "linecolor": "white",
            "showbackground": true,
            "ticks": "",
            "zerolinecolor": "white"
           },
           "yaxis": {
            "backgroundcolor": "#E5ECF6",
            "gridcolor": "white",
            "gridwidth": 2,
            "linecolor": "white",
            "showbackground": true,
            "ticks": "",
            "zerolinecolor": "white"
           },
           "zaxis": {
            "backgroundcolor": "#E5ECF6",
            "gridcolor": "white",
            "gridwidth": 2,
            "linecolor": "white",
            "showbackground": true,
            "ticks": "",
            "zerolinecolor": "white"
           }
          },
          "shapedefaults": {
           "line": {
            "color": "#2a3f5f"
           }
          },
          "ternary": {
           "aaxis": {
            "gridcolor": "white",
            "linecolor": "white",
            "ticks": ""
           },
           "baxis": {
            "gridcolor": "white",
            "linecolor": "white",
            "ticks": ""
           },
           "bgcolor": "#E5ECF6",
           "caxis": {
            "gridcolor": "white",
            "linecolor": "white",
            "ticks": ""
           }
          },
          "title": {
           "x": 0.05
          },
          "xaxis": {
           "automargin": true,
           "gridcolor": "white",
           "linecolor": "white",
           "ticks": "",
           "title": {
            "standoff": 15
           },
           "zerolinecolor": "white",
           "zerolinewidth": 2
          },
          "yaxis": {
           "automargin": true,
           "gridcolor": "white",
           "linecolor": "white",
           "ticks": "",
           "title": {
            "standoff": 15
           },
           "zerolinecolor": "white",
           "zerolinewidth": 2
          }
         }
        }
       }
      }
     },
     "metadata": {},
     "output_type": "display_data"
    }
   ],
   "source": [
    "athletesDf = pd.read_csv('../originalDataSet/athlete_events.csv', encoding=\"ISO-8859-1\") # Dataset original\n",
    "goldMedalAthletes = athletesDf[athletesDf[\"Medal\"].isin([\"Gold\"])]\n",
    "onlygoldMedalAthletes = athletesDf[athletesDf[\"Medal\"].isin([\"Gold\"])]\n",
    "\n",
    "\n",
    "altura = 172\n",
    "peso = 60\n",
    "idade = 22\n",
    "\n",
    "eventosUnicos = sorted(athletesDf[\"Event\"].unique())\n",
    "data = []\n",
    "for evento in eventosUnicos:\n",
    "  goldAthlete = onlygoldMedalAthletes[onlygoldMedalAthletes[\"Event\"].isin([evento])]\n",
    "  avgWeight = goldAthlete[\"Weight\"].mean()\n",
    "  avgHeight = goldAthlete[\"Height\"].mean()\n",
    "  avgAge = goldAthlete[\"Age\"].mean()\n",
    "  if math.isnan(avgWeight) or math.isnan(avgHeight):\n",
    "    pass\n",
    "  else:\n",
    "    data.append([evento,avgHeight,avgWeight,avgAge])\n",
    "avgPerEvent = pd.DataFrame(data, columns=['Event', 'Height', 'Weight', 'Age'])\n",
    "\n",
    "avgPerEventAux = avgPerEvent.copy()\n",
    "eventoAtual = []\n",
    "for i in range(100,10,-1):\n",
    "  x = i/10\n",
    "  # Dropando por altura\n",
    "  indexNames = avgPerEventAux[ (avgPerEventAux['Height'] >= altura+x) | (avgPerEventAux['Height'] <= altura - x) ].index\n",
    "  avgPerEventAux.drop(indexNames , inplace=True)\n",
    "\n",
    "  # Dropando por peso\n",
    "  indexNames = avgPerEventAux[ (avgPerEventAux['Weight'] >= peso+x) | (avgPerEventAux['Weight'] <= peso - x) ].index\n",
    "  avgPerEventAux.drop(indexNames , inplace=True)\n",
    "\n",
    "  # Dropando por idade\n",
    "  indexNames = avgPerEventAux[ (avgPerEventAux['Age'] >= idade+5) | (avgPerEventAux['Age'] <= idade - 5) ].index\n",
    "  avgPerEventAux.drop(indexNames , inplace=True)\n",
    "\n",
    "  if len(avgPerEventAux) == 0:\n",
    "    break\n",
    "  else:\n",
    "    eventoAtual = avgPerEventAux.copy()\n",
    "\n",
    "row = eventoAtual.iloc[0]\n",
    "evento = row.Event\n",
    "meanAge = row.Age\n",
    "meanHeight = row.Height\n",
    "meanWeight = row.Weight\n",
    "\n",
    "categories = ['Idade','Altura','Peso','Idade',]\n",
    "\n",
    "fig = go.Figure()\n",
    "\n",
    "fig.add_trace(go.Scatterpolar(\n",
    "      r=[round(idade,2), round(altura,2), round(peso,2),round(idade,2)],\n",
    "      theta=categories,\n",
    "      text = [round(bestAthleteAge,2), round(bestAthleteHeight,2), round(bestAthleteWeight,2)],\n",
    "      hoverinfo = \"r+theta\",\n",
    "      mode = \"lines+markers+text\",\n",
    "      textfont=dict(\n",
    "        family=\"Balto, sans-serif\",\n",
    "        size=13,\n",
    "        color=\"RoyalBlue\"\n",
    "      ),\n",
    "      textposition= [\"top right\", \"top right\", \"bottom right\"],\n",
    "      name='Melhor Atleta'\n",
    "))\n",
    "fig.add_trace(go.Scatterpolar(\n",
    "      r=[round(allAges,2),round(allHeights,2),round(allWeights,2),round(allAges,2)],\n",
    "      theta=categories,\n",
    "      #fill='toself',\n",
    "      hoverinfo = \"r+theta\",\n",
    "      text = [round(allAges,2),round(allHeights,2),round(allWeights,2)],\n",
    "      mode = \"lines+markers+text\",\n",
    "      textposition= [\"bottom right\", \"top left\", \"bottom left\"],\n",
    "      textfont=dict(\n",
    "        family=\"Balto, sans-serif\",\n",
    "        size=13,\n",
    "        color=\"IndianRed\"\n",
    "      ),\n",
    "      name='Média de medalhistas de ouro'\n",
    "))\n",
    "\n",
    "fig.add_annotation(text=\"Melhor atleta: \" + bestAthlete,\n",
    "                  xref=\"paper\", yref=\"paper\",\n",
    "                  x=0.5, y=1.2, showarrow=False)\n",
    "\n",
    "fig.update_layout(\n",
    "  polar=dict(\n",
    "    radialaxis=dict(\n",
    "      angle = -45,\n",
    "      tickangle = 0,\n",
    "      visible=True,\n",
    "      range=[0, 250],\n",
    "      tickfont = dict(size = 10),\n",
    "      )\n",
    "    ),\n",
    "  showlegend=True\n",
    ")\n",
    "#fig.update_polars(angularaxis_tickfont_size=1)\n",
    "fig.show()"
   ]
  },
  {
   "cell_type": "code",
   "execution_count": null,
   "metadata": {},
   "outputs": [],
   "source": [
    "import plotly.graph_objects as go\n",
    "from plotly.subplots import make_subplots\n",
    "\n",
    "fig = make_subplots(rows=2, cols=2, specs=[[{'type': 'polar'}]*2]*2)\n",
    "\n",
    "fig.add_trace(go.Scatterpolar(\n",
    "      name = \"angular categories\",\n",
    "      r = [5, 4, 2, 4, 5],\n",
    "      theta = [\"a\", \"b\", \"c\", \"d\", \"a\"],\n",
    "    ), 1, 1)\n",
    "fig.add_trace(go.Scatterpolar(\n",
    "      name = \"radial categories\",\n",
    "      r = [\"a\", \"b\", \"c\", \"d\", \"b\", \"f\", \"a\"],\n",
    "      theta = [1, 4, 2, 1.5, 1.5, 6, 5],\n",
    "      thetaunit = \"radians\",\n",
    "    ), 1, 2)\n",
    "fig.add_trace(go.Scatterpolar(\n",
    "      name = \"angular categories (w/ categoryarray)\",\n",
    "      r = [5, 4, 2, 4, 5],\n",
    "      theta = [\"a\", \"b\", \"c\", \"d\", \"a\"],\n",
    "    ), 2, 1)\n",
    "fig.add_trace(go.Scatterpolar(\n",
    "      name = \"radial categories (w/ category descending)\",\n",
    "      r = [\"a\", \"b\", \"c\", \"d\", \"b\", \"f\", \"a\", \"a\"],\n",
    "      theta = [45, 90, 180, 200, 300, 15, 20, 45],\n",
    "    ), 2, 2)\n",
    "\n",
    "fig.update_traces(fill='toself')\n",
    "fig.update_layout(\n",
    "    polar = dict(\n",
    "      radialaxis_angle = -45,\n",
    "      angularaxis = dict(\n",
    "        direction = \"clockwise\",\n",
    "        period = 6)\n",
    "    ),\n",
    "    polar2 = dict(\n",
    "      radialaxis = dict(\n",
    "        angle = 180,\n",
    "        tickangle = -180 # so that tick labels are not upside down\n",
    "      )\n",
    "    ),\n",
    "    polar3 = dict(\n",
    "      sector = [80, 400],\n",
    "      radialaxis_angle = -45,\n",
    "      angularaxis_categoryarray = [\"d\", \"a\", \"c\", \"b\"]\n",
    "    ),\n",
    "    polar4 = dict(\n",
    "      radialaxis_categoryorder = \"category descending\",\n",
    "      angularaxis = dict(\n",
    "        thetaunit = \"radians\",\n",
    "        dtick = 0.3141592653589793\n",
    "      ))\n",
    ")\n",
    "\n",
    "fig.show()"
   ]
  }
 ],
 "metadata": {
  "kernelspec": {
   "display_name": "Python 3.8.13 ('datavis')",
   "language": "python",
   "name": "python3"
  },
  "language_info": {
   "codemirror_mode": {
    "name": "ipython",
    "version": 3
   },
   "file_extension": ".py",
   "mimetype": "text/x-python",
   "name": "python",
   "nbconvert_exporter": "python",
   "pygments_lexer": "ipython3",
   "version": "3.8.13"
  },
  "orig_nbformat": 4,
  "vscode": {
   "interpreter": {
    "hash": "09cc7c4a6b966aef6c2d40316b225a40efe76b064eeb0545b8bd55e99f36bf17"
   }
  }
 },
 "nbformat": 4,
 "nbformat_minor": 2
}
